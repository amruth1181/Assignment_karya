{
  "nbformat": 4,
  "nbformat_minor": 0,
  "metadata": {
    "colab": {
      "provenance": []
    },
    "kernelspec": {
      "name": "python3",
      "display_name": "Python 3"
    },
    "language_info": {
      "name": "python"
    }
  },
  "cells": [
    {
      "cell_type": "code",
      "execution_count": 29,
      "metadata": {
        "id": "IzwnIDiN9Lx-"
      },
      "outputs": [],
      "source": [
        "\n",
        "import pandas as pd\n",
        "import requests\n",
        "from bs4 import BeautifulSoup\n",
        "import re\n",
        "import time"
      ]
    },
    {
      "cell_type": "code",
      "source": [
        "# Create separate Functions for Each column to be filled\n",
        "\n",
        "def get_company_description(company_name, response):\n",
        "    if response.status_code == 200:\n",
        "        soup = BeautifulSoup(response.text, 'html.parser')\n",
        "        about_section = soup.find('span', {'class': 'description ng-star-inserted'})\n",
        "        if about_section:\n",
        "            description = about_section.text.strip() if about_section.text else \"No company description available\"\n",
        "            return description\n",
        "        else:\n",
        "            return f\"No Description found for {company_name}\"\n",
        "    else:\n",
        "        return f\"Failed to retrieve information. Status code: {response.status_code}\""
      ],
      "metadata": {
        "id": "Ldc77k18NkeZ"
      },
      "execution_count": 30,
      "outputs": []
    },
    {
      "cell_type": "code",
      "source": [
        "def find_sector_info(company_name, response):\n",
        "    if response.status_code == 200:\n",
        "        soup = BeautifulSoup(response.text, 'html.parser')\n",
        "        sector = soup.find('span', {'class': 'component--field-formatter field-type-enum ng-star-inserted'})\n",
        "        if sector:\n",
        "            description = sector.text.strip() if sector.text else \"No sector information available\"\n",
        "            return description\n",
        "        else:\n",
        "            return f\"No information found for {company_name}\"\n",
        "    else:\n",
        "        return f\"Failed to retrieve information. Status code: {response.status_code}\"\n"
      ],
      "metadata": {
        "id": "Xs7yvcH4Nk_K"
      },
      "execution_count": 31,
      "outputs": []
    },
    {
      "cell_type": "code",
      "source": [
        "def find_industry_info(company_name, response):\n",
        "    if response.status_code == 200:\n",
        "        soup = BeautifulSoup(response.text, 'html.parser')\n",
        "        chip_texts = soup.find_all('div', {'class': 'chip-text'})\n",
        "        if chip_texts:\n",
        "            descriptions = [chip_text.text.strip() for chip_text in chip_texts]\n",
        "            industry_str = ', '.join(descriptions)\n",
        "            return industry_str\n",
        "        else:\n",
        "            return f\"No Information found for {company_name}\"\n",
        "    else:\n",
        "        return f\"Failed to retrieve information. Status code: {response.status_code}\""
      ],
      "metadata": {
        "id": "QtdhHWajNldT"
      },
      "execution_count": 32,
      "outputs": []
    },
    {
      "cell_type": "code",
      "source": [
        "def get_last_funding(company_name, response):\n",
        "    if response.status_code == 200:\n",
        "        soup = BeautifulSoup(response.text, 'html.parser')\n",
        "        a_elements = soup.find_all('a', {'class': 'component--field-formatter field-type-enum accent highlight-color-contrast-light ng-star-inserted'})\n",
        "        if a_elements and len(a_elements) >= 2:\n",
        "            description = a_elements[1].text.strip()\n",
        "            return description\n",
        "        else:\n",
        "            return f\"No Funding found for {company_name}\"\n",
        "    else:\n",
        "        return f\"Failed to retrieve information. Status code: {response.status_code}\"\n"
      ],
      "metadata": {
        "id": "-t7HNqZ_N2Ii"
      },
      "execution_count": 33,
      "outputs": []
    },
    {
      "cell_type": "code",
      "source": [
        "def find_competing_companies(company_name):\n",
        "    url = f'https://www.crunchbase.com/organization/{company_name.lower()}/org_similarity_overview'\n",
        "    headers = {\n",
        "        'User-Agent': 'Mozilla/5.0 (Windows NT 10.0; Win64; x64) AppleWebKit/537.36 (KHTML, like Gecko) Chrome/91.0.4472.124 Safari/537.36'\n",
        "    }\n",
        "    response = requests.get(url, headers=headers)\n",
        "    print(response.status_code)\n",
        "    if response.status_code == 200:\n",
        "        soup = BeautifulSoup(response.text, 'html.parser')\n",
        "        matching_elements = soup.find_all('div', {'class': 'reasons-container ng-star-inserted'})\n",
        "        com_name = soup.find('h1', {'class': 'profile-name'})\n",
        "        if matching_elements and com_name:\n",
        "            results = [element.text.strip() for element in matching_elements]\n",
        "            comp_name = com_name.text.strip()\n",
        "            res = []\n",
        "            for text in results:\n",
        "                pattern = re.compile(comp_name + r'\\s+and\\s+(\\w+)')\n",
        "                matches = pattern.findall(text)\n",
        "                res.extend(matches)\n",
        "            competitors_str = ', '.join(res)\n",
        "            return competitors_str\n",
        "        else:\n",
        "            return f\"No Competitors found for {company_name}\"\n",
        "    else:\n",
        "        return f\"Failed to retrieve information. Status code: {response.status_code}\""
      ],
      "metadata": {
        "id": "NvK4gvNTN2FK"
      },
      "execution_count": 34,
      "outputs": []
    },
    {
      "cell_type": "code",
      "source": [
        "def get_products_and_services(company_name, response):\n",
        "    if response.status_code == 200:\n",
        "        soup = BeautifulSoup(response.text, 'html.parser')\n",
        "        p_s = soup.find('span', {'class': 'description has-overflow ng-star-inserted'})\n",
        "        if p_s:\n",
        "            description = p_s.text.strip() if p_s.text else \"No product/service information available\"\n",
        "            return description\n",
        "        else:\n",
        "            return f\"No Products/Services found for {company_name}\"\n",
        "    else:\n",
        "        return f\"Failed to retrieve information. Status code: {response.status_code}\"\n"
      ],
      "metadata": {
        "id": "RZiA1j92N2Cu"
      },
      "execution_count": 35,
      "outputs": []
    },
    {
      "cell_type": "code",
      "source": [
        "def retrieve_company_info(name):\n",
        "    temp_name = name.lower().replace(' ', '-')\n",
        "    url = f'https://www.crunchbase.com/organization/{temp_name}'\n",
        "    headers = {\n",
        "        'User-Agent': 'Mozilla/5.0 (Windows NT 10.0; Win64; x64) AppleWebKit/537.36 (KHTML, like Gecko) Chrome/91.0.4472.124 Safari/537.36'\n",
        "    }\n",
        "    response = requests.get(url, headers=headers)\n",
        "    print(response.status_code)\n",
        "    if response.status_code == 200:\n",
        "        des1 = get_company_description(name, response)\n",
        "        des2 = find_sector_info(name, response)\n",
        "        des3 = find_industry_info(name, response)\n",
        "        des4 = get_last_funding(name, response)\n",
        "        des5 = find_competing_companies(temp_name)\n",
        "        des6 = get_products_and_services(name, response)\n",
        "        return {\n",
        "            'Company Name': name,\n",
        "            'Company Description': des1,\n",
        "            'Sector': des2,\n",
        "            'Industry': des3,\n",
        "            'Funding': des4,\n",
        "            'Products/Services Description': des6,\n",
        "            'Competitors': des5\n",
        "        }\n",
        "    else:\n",
        "        print(f\"Failed to retrieve information for {name}\")\n",
        "        return None"
      ],
      "metadata": {
        "id": "Vv6dU0e6N1_8"
      },
      "execution_count": 42,
      "outputs": []
    },
    {
      "cell_type": "code",
      "source": [
        "def generate_excel(company_names):\n",
        "    data = []\n",
        "    for company_name in company_names:\n",
        "        company_info = retrieve_company_info(company_name)\n",
        "        time.sleep(4)\n",
        "        if company_info:\n",
        "            data.append(company_info)\n",
        "\n",
        "    df = pd.DataFrame(data)\n",
        "    excel_filename = 'op_file.xlsx'\n",
        "    df.to_excel(excel_filename, index=False)\n",
        "    print(f'Excel file \"{excel_filename}\" generated successfully.')\n",
        "\n",
        "company_names = [\n",
        "      'Microsoft', 'Amazon', 'Alphabet', 'Facebook', 'Tesla'\n",
        "    ]\n",
        "generate_excel(company_names)\n"
      ],
      "metadata": {
        "colab": {
          "base_uri": "https://localhost:8080/"
        },
        "id": "vu0OkTVzN173",
        "outputId": "e54b4b89-761d-4525-8824-b8b9ca095b4e"
      },
      "execution_count": 43,
      "outputs": [
        {
          "output_type": "stream",
          "name": "stdout",
          "text": [
            "200\n",
            "200\n",
            "200\n",
            "200\n",
            "200\n",
            "200\n",
            "200\n",
            "200\n",
            "200\n",
            "200\n",
            "Excel file \"output_file.xlsx\" generated successfully.\n"
          ]
        }
      ]
    },
    {
      "cell_type": "code",
      "source": [],
      "metadata": {
        "id": "edi5tRJ8SZgK"
      },
      "execution_count": 19,
      "outputs": []
    }
  ]
}